{
 "cells": [
  {
   "cell_type": "code",
   "execution_count": 1,
   "id": "5bc68c2e-0a75-4a75-b691-c4d23e28d3af",
   "metadata": {},
   "outputs": [],
   "source": [
    "from concurrent.futures import (\n",
    "    ThreadPoolExecutor,\n",
    "    as_completed,\n",
    ")\n",
    "import matplotlib.pyplot as plt\n",
    "import seaborn as sns\n",
    "from enum import Enum\n",
    "from tqdm import tqdm\n",
    "from PIL import Image\n",
    "import pandas as pd\n",
    "import numpy as np\n",
    "import os"
   ]
  },
  {
   "cell_type": "code",
   "execution_count": 2,
   "id": "5a79f257-9e41-4a20-857b-a26d4bcde923",
   "metadata": {},
   "outputs": [
    {
     "data": {
      "text/plain": [
       "('/mnt/d/AgriNet-Research/agrinet/datasets',\n",
       " 'Agriculture-Vision-2021/_dataset')"
      ]
     },
     "execution_count": 2,
     "metadata": {},
     "output_type": "execute_result"
    }
   ],
   "source": [
    "BASE_DIR = os.path.dirname(os.path.abspath(\"\"))\n",
    "DATASET_NAME = \"Agriculture-Vision-2021/_dataset\"\n",
    "BASE_DIR, DATASET_NAME"
   ]
  },
  {
   "cell_type": "code",
   "execution_count": 3,
   "id": "a6856dc1-cd70-4280-8df3-5166e7641258",
   "metadata": {},
   "outputs": [
    {
     "data": {
      "text/plain": [
       "'/mnt/d/AgriNet-Research/agrinet/datasets/Agriculture-Vision-2021/_dataset/train'"
      ]
     },
     "execution_count": 3,
     "metadata": {},
     "output_type": "execute_result"
    }
   ],
   "source": [
    "dataset_path = os.path.join(BASE_DIR, DATASET_NAME)\n",
    "dataset_train_path = os.path.join(dataset_path, \"train\")\n",
    "dataset_val_path = os.path.join(dataset_path, \"val\")\n",
    "dataset_test_path = os.path.join(dataset_path, \"test\")\n",
    "dataset_train_path"
   ]
  },
  {
   "cell_type": "code",
   "execution_count": 4,
   "id": "94fbf90b-7940-4481-8d5d-e9d029f4ae32",
   "metadata": {},
   "outputs": [],
   "source": [
    "LABELS = {\n",
    "    0: \"drydown\",\n",
    "    1: \"nutrient_deficiency\",\n",
    "    2: \"weed_cluster\",\n",
    "    3: \"water\",\n",
    "    4: \"endrow\",\n",
    "    5: \"double_plant\",\n",
    "    6: \"waterway\",\n",
    "    7: \"storm_damage\",\n",
    "    8: \"planter_skip\",\n",
    "}"
   ]
  },
  {
   "cell_type": "markdown",
   "id": "8758b83c-fdd6-4b17-8bea-165412364611",
   "metadata": {},
   "source": [
    "# Check label masks for white pixels"
   ]
  },
  {
   "cell_type": "code",
   "execution_count": 5,
   "id": "6c02a129-9132-45df-881d-285dcdc808d3",
   "metadata": {},
   "outputs": [],
   "source": [
    "def check_pixels(image_array: np.ndarray, check_for_pixels: int) -> bool:\n",
    "    return np.any(image_array == check_for_pixels)\n",
    "\n",
    "def is_label_mask(filepath: str, *, check_for_pixels: int = 255) -> bool:\n",
    "    try:\n",
    "        img = Image.open(filepath).convert(\"L\")\n",
    "        return check_pixels(image_array=np.array(img), check_for_pixels=check_for_pixels)\n",
    "    except FileNotFoundError:\n",
    "        # Return False if the file doesnt exist\n",
    "        return False\n",
    "\n",
    "\n",
    "def process_label_mask(\n",
    "    filename: str,\n",
    "    labels_path: str,\n",
    "    *,\n",
    "    ext: str = \".png\"\n",
    ") -> list[int]:\n",
    "    return [\n",
    "        1 if is_label_mask(os.path.join(labels_path, label_name, f\"{filename}{ext}\")) else 0\n",
    "        for label_name in LABELS.values()\n",
    "    ]\n",
    "\n",
    "\n",
    "def process_label_masks_concurrent(\n",
    "    target_images_paths: list[str],\n",
    "    labels_path: str,\n",
    "    *,\n",
    "    ext: str = \".png\",\n",
    "    max_workers: int = None\n",
    ") -> pd.DataFrame:\n",
    "    max_workers = max_workers or cpu_get_max_workers()\n",
    "    data = []\n",
    "    columns = [\"ID\"] + list(LABELS.values())\n",
    "\n",
    "    def process_single(filepath: str):\n",
    "        filename, _ = os.path.splitext(os.path.basename(filepath))\n",
    "        label_results = process_label_mask(\n",
    "            filename=filename,\n",
    "            labels_path=labels_path,\n",
    "            ext=ext\n",
    "        )\n",
    "        return [filename] + label_results\n",
    "\n",
    "    with ThreadPoolExecutor(max_workers=max_workers) as executor:\n",
    "        futures = {executor.submit(process_single, fp): fp for fp in target_images_paths}\n",
    "        for future in tqdm(as_completed(futures), total=len(futures), desc=\"Processing masks\", unit=\"file\"):\n",
    "            data.append(future.result())\n",
    "\n",
    "    return pd.DataFrame(data, columns=columns)\n",
    "\n",
    "\n",
    "def cpu_get_max_workers() -> int:\n",
    "    return os.cpu_count() or 1\n",
    "\n",
    "\n",
    "def get_filepaths(path: str, *, exts: list[str] = []) -> list[str]:\n",
    "    return [\n",
    "        os.path.join(path, filename)\n",
    "        for filename in os.listdir(path)\n",
    "        if not exts or os.path.splitext(filename)[1] in exts\n",
    "    ]"
   ]
  },
  {
   "cell_type": "code",
   "execution_count": 6,
   "id": "e3254763-1481-4d5a-9f49-2b8e69429eb4",
   "metadata": {},
   "outputs": [
    {
     "name": "stdout",
     "output_type": "stream",
     "text": [
      "7.43 ms ± 245 μs per loop (mean ± std. dev. of 7 runs, 100 loops each)\n",
      "All test passed\n"
     ]
    }
   ],
   "source": [
    "def _test():\n",
    "    path = os.path.join(dataset_train_path, \"labels\", \"endrow\")\n",
    "    mask1 = os.path.join(path, \"2I4YH4WR2_1724-5674-2236-6186.png\")\n",
    "    mask2 = os.path.join(path, \"1BFUWHD9T_2585-1539-3097-2051.png\")\n",
    "    assert is_label_mask(mask1) == True\n",
    "    assert is_label_mask(mask2) == False\n",
    "    %timeit is_label_mask(mask1)\n",
    "    print(\"All test passed\")\n",
    "\n",
    "\n",
    "try:\n",
    "    _test()\n",
    "except AssertionError as e:\n",
    "    print(f\"Failed pass all test\")\n",
    "except Exception as e:\n",
    "    print(f\"Failed load test: {e}\")"
   ]
  },
  {
   "cell_type": "code",
   "execution_count": 7,
   "id": "78c9e489-6489-4f28-b9c7-74758732c2ea",
   "metadata": {},
   "outputs": [
    {
     "name": "stderr",
     "output_type": "stream",
     "text": [
      "Processing masks: 100%|███████████████████████████████████████████████████████████████████████████████████████████████████████████████████████████████████████████████████████████████████████████████████████| 10/10 [00:00<00:00, 69.77file/s]"
     ]
    },
    {
     "name": "stdout",
     "output_type": "stream",
     "text": [
      "                                 ID  drydown  nutrient_deficiency  \\\n",
      "0     11TAQJ6ET_1148-8089-1660-8601        0                    0   \n",
      "1  11IE4DKTR_11556-9586-12068-10098        0                    0   \n",
      "2      11TAQJ6ET_1288-961-1800-1473        0                    0   \n",
      "3      11TAQJ6ET_1749-948-2261-1460        0                    0   \n",
      "4     11TAQJ6ET_1995-8426-2507-8938        0                    0   \n",
      "\n",
      "   weed_cluster  water  endrow  double_plant  waterway  storm_damage  \\\n",
      "0             0      0       0             1         0             0   \n",
      "1             0      0       0             1         0             0   \n",
      "2             0      0       0             1         0             0   \n",
      "3             0      0       0             1         0             0   \n",
      "4             0      0       0             1         0             0   \n",
      "\n",
      "   planter_skip  \n",
      "0             0  \n",
      "1             0  \n",
      "2             0  \n",
      "3             0  \n",
      "4             0  \n"
     ]
    },
    {
     "name": "stderr",
     "output_type": "stream",
     "text": [
      "\n"
     ]
    }
   ],
   "source": [
    "def _test():\n",
    "    limit = 10\n",
    "    exts = [\".jpg\",]\n",
    "    path = os.path.join(dataset_train_path, \"images\", \"rgb\")\n",
    "    target_images_paths = get_filepaths(path, exts = exts)[:limit]\n",
    "    labels_path = os.path.join(dataset_train_path, \"labels\")\n",
    "    \n",
    "    df = process_label_masks_concurrent(\n",
    "        target_images_paths = target_images_paths,\n",
    "        labels_path = labels_path,\n",
    "    )\n",
    "    print(df.head())\n",
    "\n",
    "\n",
    "try:\n",
    "    _test()\n",
    "except AssertionError as e:\n",
    "    print(f\"Failed pass all test\")\n",
    "except Exception as e:\n",
    "    print(f\"Failed load test: {e}\")"
   ]
  },
  {
   "cell_type": "code",
   "execution_count": 8,
   "id": "c1a46d99-67e3-4921-a25e-b0e4ea63a356",
   "metadata": {},
   "outputs": [
    {
     "name": "stderr",
     "output_type": "stream",
     "text": [
      "Processing masks: 100%|█████████████████████████████████████████████████████████████████████████████████████████████████████████████████████████████████████████████████████████████████████████████████| 56944/56944 [10:02<00:00, 94.52file/s]\n"
     ]
    }
   ],
   "source": [
    "path = os.path.join(dataset_train_path, \"images\", \"rgb\")\n",
    "target_images_paths = get_filepaths(path)\n",
    "labels_path = os.path.join(dataset_train_path, \"labels\")\n",
    "\n",
    "df = process_label_masks_concurrent(\n",
    "    target_images_paths = target_images_paths,\n",
    "    labels_path = labels_path,\n",
    ")"
   ]
  },
  {
   "cell_type": "code",
   "execution_count": 9,
   "id": "ee84054b-8691-495a-bbe6-11ea4ec9de6c",
   "metadata": {},
   "outputs": [],
   "source": [
    "dn = DATASET_NAME.replace('/','').lower()\n",
    "filename = f\"{dn}_processed_masks.csv\"\n",
    "df.to_csv(filename, index=False)"
   ]
  },
  {
   "cell_type": "markdown",
   "id": "3aaff43a-6edc-4d4b-b290-7158004a7d0a",
   "metadata": {},
   "source": [
    "# EAD"
   ]
  },
  {
   "cell_type": "code",
   "execution_count": 98,
   "id": "7c752e25-0c26-4f13-b59f-d2d179ec36f5",
   "metadata": {},
   "outputs": [
    {
     "data": {
      "text/plain": [
       "drydown                16806\n",
       "nutrient_deficiency    13308\n",
       "weed_cluster           11111\n",
       "double_plant            6234\n",
       "endrow                  4481\n",
       "waterway                3899\n",
       "planter_skip            2599\n",
       "water                   2155\n",
       "storm_damage             356\n",
       "dtype: int64"
      ]
     },
     "execution_count": 98,
     "metadata": {},
     "output_type": "execute_result"
    }
   ],
   "source": [
    "df = pd.read_csv(\"agriculture-vision-2021_dataset_processed_masks.csv\")\n",
    "label_columns = df.columns[1:]  # Exclude ID\n",
    "label_counts"
   ]
  },
  {
   "cell_type": "code",
   "execution_count": 99,
   "id": "ba91283a-42df-4379-b6f6-4e4c1617085a",
   "metadata": {},
   "outputs": [
    {
     "data": {
      "text/html": [
       "<div>\n",
       "<style scoped>\n",
       "    .dataframe tbody tr th:only-of-type {\n",
       "        vertical-align: middle;\n",
       "    }\n",
       "\n",
       "    .dataframe tbody tr th {\n",
       "        vertical-align: top;\n",
       "    }\n",
       "\n",
       "    .dataframe thead th {\n",
       "        text-align: right;\n",
       "    }\n",
       "</style>\n",
       "<table border=\"1\" class=\"dataframe\">\n",
       "  <thead>\n",
       "    <tr style=\"text-align: right;\">\n",
       "      <th></th>\n",
       "      <th>ID</th>\n",
       "      <th>drydown</th>\n",
       "      <th>nutrient_deficiency</th>\n",
       "      <th>weed_cluster</th>\n",
       "      <th>water</th>\n",
       "      <th>endrow</th>\n",
       "      <th>double_plant</th>\n",
       "      <th>waterway</th>\n",
       "      <th>storm_damage</th>\n",
       "      <th>planter_skip</th>\n",
       "    </tr>\n",
       "  </thead>\n",
       "  <tbody>\n",
       "    <tr>\n",
       "      <th>0</th>\n",
       "      <td>11TAQJ6ET_1995-8426-2507-8938</td>\n",
       "      <td>0</td>\n",
       "      <td>0</td>\n",
       "      <td>0</td>\n",
       "      <td>0</td>\n",
       "      <td>0</td>\n",
       "      <td>1</td>\n",
       "      <td>0</td>\n",
       "      <td>0</td>\n",
       "      <td>0</td>\n",
       "    </tr>\n",
       "    <tr>\n",
       "      <th>1</th>\n",
       "      <td>11IE4DKTR_6121-684-6633-1196</td>\n",
       "      <td>0</td>\n",
       "      <td>0</td>\n",
       "      <td>0</td>\n",
       "      <td>0</td>\n",
       "      <td>0</td>\n",
       "      <td>1</td>\n",
       "      <td>0</td>\n",
       "      <td>0</td>\n",
       "      <td>0</td>\n",
       "    </tr>\n",
       "    <tr>\n",
       "      <th>2</th>\n",
       "      <td>11TAQJ6ET_1124-8510-1636-9022</td>\n",
       "      <td>0</td>\n",
       "      <td>0</td>\n",
       "      <td>0</td>\n",
       "      <td>0</td>\n",
       "      <td>0</td>\n",
       "      <td>1</td>\n",
       "      <td>0</td>\n",
       "      <td>0</td>\n",
       "      <td>0</td>\n",
       "    </tr>\n",
       "    <tr>\n",
       "      <th>3</th>\n",
       "      <td>11TAQJ6ET_1567-8177-2079-8689</td>\n",
       "      <td>0</td>\n",
       "      <td>0</td>\n",
       "      <td>0</td>\n",
       "      <td>0</td>\n",
       "      <td>0</td>\n",
       "      <td>1</td>\n",
       "      <td>0</td>\n",
       "      <td>0</td>\n",
       "      <td>0</td>\n",
       "    </tr>\n",
       "    <tr>\n",
       "      <th>4</th>\n",
       "      <td>11TAQJ6ET_1749-948-2261-1460</td>\n",
       "      <td>0</td>\n",
       "      <td>0</td>\n",
       "      <td>0</td>\n",
       "      <td>0</td>\n",
       "      <td>0</td>\n",
       "      <td>1</td>\n",
       "      <td>0</td>\n",
       "      <td>0</td>\n",
       "      <td>0</td>\n",
       "    </tr>\n",
       "  </tbody>\n",
       "</table>\n",
       "</div>"
      ],
      "text/plain": [
       "                              ID  drydown  nutrient_deficiency  weed_cluster  \\\n",
       "0  11TAQJ6ET_1995-8426-2507-8938        0                    0             0   \n",
       "1   11IE4DKTR_6121-684-6633-1196        0                    0             0   \n",
       "2  11TAQJ6ET_1124-8510-1636-9022        0                    0             0   \n",
       "3  11TAQJ6ET_1567-8177-2079-8689        0                    0             0   \n",
       "4   11TAQJ6ET_1749-948-2261-1460        0                    0             0   \n",
       "\n",
       "   water  endrow  double_plant  waterway  storm_damage  planter_skip  \n",
       "0      0       0             1         0             0             0  \n",
       "1      0       0             1         0             0             0  \n",
       "2      0       0             1         0             0             0  \n",
       "3      0       0             1         0             0             0  \n",
       "4      0       0             1         0             0             0  "
      ]
     },
     "execution_count": 99,
     "metadata": {},
     "output_type": "execute_result"
    }
   ],
   "source": [
    "df.head()"
   ]
  },
  {
   "cell_type": "code",
   "execution_count": 100,
   "id": "b3c1f0e2-fa1e-4f1f-8fb8-172164814bcc",
   "metadata": {},
   "outputs": [
    {
     "name": "stdout",
     "output_type": "stream",
     "text": [
      "<class 'pandas.core.frame.DataFrame'>\n",
      "RangeIndex: 56944 entries, 0 to 56943\n",
      "Data columns (total 10 columns):\n",
      " #   Column               Non-Null Count  Dtype \n",
      "---  ------               --------------  ----- \n",
      " 0   ID                   56944 non-null  object\n",
      " 1   drydown              56944 non-null  int64 \n",
      " 2   nutrient_deficiency  56944 non-null  int64 \n",
      " 3   weed_cluster         56944 non-null  int64 \n",
      " 4   water                56944 non-null  int64 \n",
      " 5   endrow               56944 non-null  int64 \n",
      " 6   double_plant         56944 non-null  int64 \n",
      " 7   waterway             56944 non-null  int64 \n",
      " 8   storm_damage         56944 non-null  int64 \n",
      " 9   planter_skip         56944 non-null  int64 \n",
      "dtypes: int64(9), object(1)\n",
      "memory usage: 4.3+ MB\n"
     ]
    }
   ],
   "source": [
    "df.info()"
   ]
  },
  {
   "cell_type": "code",
   "execution_count": 101,
   "id": "c7fd2acc-c226-471c-894f-f916a43cb209",
   "metadata": {},
   "outputs": [
    {
     "data": {
      "image/png": "[encoded data removed]",
      "text/plain": [
       "<Figure size 1000x600 with 1 Axes>"
      ]
     },
     "metadata": {},
     "output_type": "display_data"
    }
   ],
   "source": [
    "label_counts = df[label_columns].sum().sort_values(ascending=False)\n",
    "\n",
    "plt.figure(figsize=(10, 6))\n",
    "sns.barplot(\n",
    "    x=label_counts.index,\n",
    "    y=label_counts.values,\n",
    "    hue=label_counts.index,\n",
    "    dodge=False,\n",
    "    palette=\"viridis\",\n",
    "    legend=False,\n",
    ")\n",
    "plt.title(\"Histogram of Label Counts\")\n",
    "plt.xlabel(\"Labels\")\n",
    "plt.ylabel(\"Count\")\n",
    "plt.xticks(rotation=45)\n",
    "plt.show()"
   ]
  },
  {
   "cell_type": "code",
   "execution_count": 102,
   "id": "40f12845-9752-462f-a167-bd569f8abe37",
   "metadata": {},
   "outputs": [
    {
     "name": "stdout",
     "output_type": "stream",
     "text": [
      "{1: 53356, 2: 3182, 3: 395, 4: 11}\n"
     ]
    }
   ],
   "source": [
    "df[\"num_classes\"] = df[label_columns].sum(axis=1)\n",
    "\n",
    "num_classes_distribution = df[\"num_classes\"].value_counts().sort_index().to_dict()\n",
    "print(num_classes_distribution)"
   ]
  },
  {
   "cell_type": "code",
   "execution_count": 103,
   "id": "168bd3d1-f955-4cc4-b86d-113e8007e0be",
   "metadata": {},
   "outputs": [
    {
     "data": {
      "image/png": "[encoded data removed]",
      "text/plain": [
       "<Figure size 1000x600 with 1 Axes>"
      ]
     },
     "metadata": {},
     "output_type": "display_data"
    }
   ],
   "source": [
    "max_classes = df[\"num_classes\"].max()\n",
    "filtered_df = df[df[\"num_classes\"] < max_classes]\n",
    "\n",
    "plt.figure(figsize=(10, 6))\n",
    "sns.countplot(\n",
    "    data=filtered_df,\n",
    "    x=\"num_classes\",\n",
    "    hue=df['num_classes'],\n",
    "    palette='viridis',\n",
    "    legend=False,\n",
    ")\n",
    "plt.title('Distribution Number of Classes on Image')\n",
    "plt.xlabel('Number of Classes')\n",
    "plt.ylabel('Count')\n",
    "plt.yscale('log')\n",
    "plt.xticks(range(max_classes))\n",
    "plt.show()"
   ]
  }
 ],
 "metadata": {
  "kernelspec": {
   "display_name": "Python 3 (ipykernel)",
   "language": "python",
   "name": "python3"
  },
  "language_info": {
   "codemirror_mode": {
    "name": "ipython",
    "version": 3
   },
   "file_extension": ".py",
   "mimetype": "text/x-python",
   "name": "python",
   "nbconvert_exporter": "python",
   "pygments_lexer": "ipython3",
   "version": "3.12.7"
  }
 },
 "nbformat": 4,
 "nbformat_minor": 5
}
