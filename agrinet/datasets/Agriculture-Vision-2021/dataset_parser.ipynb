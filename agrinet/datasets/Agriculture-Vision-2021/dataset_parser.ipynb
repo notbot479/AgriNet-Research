{
 "cells": [
  {
   "cell_type": "markdown",
   "id": "85288427-7dc3-4053-a2c8-5f87930de968",
   "metadata": {},
   "source": [
    "# 1 Imports"
   ]
  },
  {
   "cell_type": "code",
   "execution_count": 1,
   "id": "bebf4c44-1f64-44bb-b5b3-d9af4cbb199d",
   "metadata": {},
   "outputs": [],
   "source": [
    "import os\n",
    "from torch.utils.data import Dataset\n",
    "from PIL import Image\n",
    "import numpy as np\n",
    "import torch"
   ]
  },
  {
   "cell_type": "markdown",
   "id": "8b9b979f-719c-4023-8037-87a31234b556",
   "metadata": {},
   "source": [
    "# Constants"
   ]
  },
  {
   "cell_type": "code",
   "execution_count": 2,
   "id": "6482a40d-7491-4e9b-a967-b585bfff3832",
   "metadata": {},
   "outputs": [
    {
     "data": {
      "text/plain": [
       "'D:\\\\AgriNet-Research\\\\agrinet\\\\datasets\\\\Agriculture-Vision-2021'"
      ]
     },
     "execution_count": 2,
     "metadata": {},
     "output_type": "execute_result"
    }
   ],
   "source": [
    "BASE_DIR = os.path.abspath(\"\")\n",
    "\n",
    "BASE_DIR"
   ]
  },
  {
   "cell_type": "code",
   "execution_count": 3,
   "id": "85bf5685-ae57-445e-ad57-442d5171a544",
   "metadata": {},
   "outputs": [],
   "source": [
    "dataset_name = \"_dataset\"\n",
    "dataset_path = os.path.join(BASE_DIR, dataset_name)\n",
    "dataset_train_path = os.path.join(dataset_path, \"train\")\n",
    "dataset_val_path = os.path.join(dataset_path, \"val\")\n",
    "dataset_test_path = os.path.join(dataset_path, \"test\")\n",
    "\n",
    "image_dirs = [\n",
    "    os.path.join(dataset_train_path, \"images\", \"rgbn\"),\n",
    "    os.path.join(dataset_train_path, \"aug_images\", \"rgbn\"),\n",
    "]\n",
    "\n",
    "# has folder foreach label\n",
    "label_dirs = [\n",
    "    os.path.join(dataset_train_path, \"labels\"),\n",
    "    os.path.join(dataset_train_path, \"aug_labels\"),\n",
    "]"
   ]
  },
  {
   "cell_type": "code",
   "execution_count": 4,
   "id": "b956e9db-0f4d-49e5-9e65-05dbfc1fb827",
   "metadata": {},
   "outputs": [
    {
     "name": "stdout",
     "output_type": "stream",
     "text": [
      "TODO\n",
      "TODO\n",
      "<__main__.Image object at 0x0000029B299402C0> <__main__.Mask object at 0x0000029B29942F30>\n",
      "Loaded 156397 instances\n"
     ]
    }
   ],
   "source": [
    "class Image:\n",
    "    pass\n",
    "\n",
    "class Mask:\n",
    "    pass\n",
    "\n",
    "class ImageIdsParser:\n",
    "    @classmethod\n",
    "    def get_ids_for_dirs(cls, dirs: list[str]) -> list[str]:\n",
    "        ids = []\n",
    "        [ids.extend(cls.get_ids_for_dir(d)) for d in dirs]\n",
    "        return ids\n",
    "    \n",
    "    @classmethod\n",
    "    def get_ids_for_dir(cls, path: str) -> list[str]:\n",
    "        ids_with_nones = [cls._get_id_from_image_path(p) for p in os.listdir(path)]\n",
    "        ids = [i for i in ids_with_nones if i]\n",
    "        return ids\n",
    "    \n",
    "    @classmethod\n",
    "    def _get_id_from_image_path(cls, path: str) -> str | None:\n",
    "        try:\n",
    "            return path.split(\".\")[0]\n",
    "        except:\n",
    "            return None\n",
    "\n",
    "\n",
    "class UNetDataset(Dataset):\n",
    "    def __init__(self, image_dirs: list[str], label_dirs: list[str]) -> None: \n",
    "        self._image_dirs = image_dirs\n",
    "        self._label_dirs = label_dirs\n",
    "        self._image_ids = ImageIdsParser.get_ids_for_dirs(image_dirs)\n",
    "\n",
    "    def __len__(self) -> int:\n",
    "        return len(self._image_ids)\n",
    "        \n",
    "    def __getitem__(self, idx: int):\n",
    "        image_id = self._image_ids[idx]\n",
    "        return self.get_data(image_id)\n",
    "\n",
    "    def get_data(self, image_id: str):\n",
    "        image = self._get_image(image_id)\n",
    "        mask = self._get_mask(image_id)\n",
    "        return (image, mask)\n",
    "    \n",
    "    def _get_image(self, image_id: str) -> Image:\n",
    "        print(\"TODO\")\n",
    "        return Image()\n",
    "\n",
    "    def _get_mask(self, image_id: str) -> Mask:\n",
    "        print(\"TODO\")\n",
    "        return Mask()\n",
    "\n",
    "unet_dataset = UNetDataset(image_dirs=image_dirs, label_dirs=label_dirs)\n",
    "\n",
    "for image, mask in unet_dataset:\n",
    "    print(image, mask)\n",
    "    break\n",
    "\n",
    "print(f\"Loaded {len(unet_dataset)} instances\")"
   ]
  }
 ],
 "metadata": {
  "kernelspec": {
   "display_name": "Python 3 (ipykernel)",
   "language": "python",
   "name": "python3"
  },
  "language_info": {
   "codemirror_mode": {
    "name": "ipython",
    "version": 3
   },
   "file_extension": ".py",
   "mimetype": "text/x-python",
   "name": "python",
   "nbconvert_exporter": "python",
   "pygments_lexer": "ipython3",
   "version": "3.12.3"
  }
 },
 "nbformat": 4,
 "nbformat_minor": 5
}
